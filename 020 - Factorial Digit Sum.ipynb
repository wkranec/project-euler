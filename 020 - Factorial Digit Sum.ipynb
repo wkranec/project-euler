{
 "cells": [
  {
   "cell_type": "markdown",
   "id": "1d61017b-49fe-4c19-a9e0-cc06b288aefa",
   "metadata": {},
   "source": [
    "# Problem 20: Factorial Digit Sum"
   ]
  },
  {
   "cell_type": "markdown",
   "id": "7e661f64-a202-4a21-9163-1ae83ebb52f0",
   "metadata": {},
   "source": [
    "$n!$ means $n \\times (n-1) \\times \\cdots \\times 3 \\times 2 \\times 1$.\n",
    "\n",
    "For example, $10! = 10 \\times 9 \\times \\cdots \\times 3 \\times 2 \\times 1 = 3628800$, and the sum of the digits in the number $10!$ is \n",
    "$3 + 6 + 2 + 8 + 8 + 0 + 0 = 27$.\n",
    "\n",
    "Find the sum of the digits in the number $100!$."
   ]
  },
  {
   "cell_type": "markdown",
   "id": "62531c13-7ceb-4a05-b830-a39f974805ee",
   "metadata": {},
   "source": [
    "Computing $100!$ is well within Python's capabilities.  Proceed with a straightforward approach:"
   ]
  },
  {
   "cell_type": "code",
   "execution_count": 1,
   "id": "67ecd6bc-7d86-4b23-b43d-afb4f3ba20e6",
   "metadata": {},
   "outputs": [],
   "source": [
    "import library\n",
    "import math"
   ]
  },
  {
   "cell_type": "code",
   "execution_count": 2,
   "id": "7f44a532-a58c-49c2-bc2f-a18a4ddbd739",
   "metadata": {},
   "outputs": [],
   "source": [
    "x = math.factorial(100)"
   ]
  },
  {
   "cell_type": "code",
   "execution_count": 3,
   "id": "a8c5a9f4-d290-4b34-9577-650481320c98",
   "metadata": {},
   "outputs": [
    {
     "data": {
      "text/plain": [
       "648"
      ]
     },
     "execution_count": 3,
     "metadata": {},
     "output_type": "execute_result"
    }
   ],
   "source": [
    "sum(library.digits(x))"
   ]
  }
 ],
 "metadata": {
  "kernelspec": {
   "display_name": "Python 3 (ipykernel)",
   "language": "python",
   "name": "python3"
  },
  "language_info": {
   "codemirror_mode": {
    "name": "ipython",
    "version": 3
   },
   "file_extension": ".py",
   "mimetype": "text/x-python",
   "name": "python",
   "nbconvert_exporter": "python",
   "pygments_lexer": "ipython3",
   "version": "3.12.8"
  }
 },
 "nbformat": 4,
 "nbformat_minor": 5
}
