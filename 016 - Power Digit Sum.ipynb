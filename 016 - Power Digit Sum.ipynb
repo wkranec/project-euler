{
 "cells": [
  {
   "cell_type": "markdown",
   "id": "1d61017b-49fe-4c19-a9e0-cc06b288aefa",
   "metadata": {},
   "source": [
    "# Problem 16: Power Digit Sum"
   ]
  },
  {
   "cell_type": "markdown",
   "id": "7e661f64-a202-4a21-9163-1ae83ebb52f0",
   "metadata": {},
   "source": [
    "$2^{15} = 32768$ and the sum of its digits is $3+2+7+6+8=26$.\n",
    "\n",
    "What is the sum of the digits of the number $2^{1000}$?"
   ]
  },
  {
   "cell_type": "markdown",
   "id": "62531c13-7ceb-4a05-b830-a39f974805ee",
   "metadata": {},
   "source": [
    "I was initially worried about computing $2^{1000}$, but this is well within Python's capabilities.  Proceed with a straightforward approach:"
   ]
  },
  {
   "cell_type": "code",
   "execution_count": 2,
   "id": "67ecd6bc-7d86-4b23-b43d-afb4f3ba20e6",
   "metadata": {},
   "outputs": [],
   "source": [
    "import library"
   ]
  },
  {
   "cell_type": "code",
   "execution_count": 3,
   "id": "7f44a532-a58c-49c2-bc2f-a18a4ddbd739",
   "metadata": {},
   "outputs": [],
   "source": [
    "x = 2**1000"
   ]
  },
  {
   "cell_type": "code",
   "execution_count": 4,
   "id": "a8c5a9f4-d290-4b34-9577-650481320c98",
   "metadata": {},
   "outputs": [
    {
     "data": {
      "text/plain": [
       "1366"
      ]
     },
     "execution_count": 4,
     "metadata": {},
     "output_type": "execute_result"
    }
   ],
   "source": [
    "sum(library.digits(x))"
   ]
  }
 ],
 "metadata": {
  "kernelspec": {
   "display_name": "Python 3 (ipykernel)",
   "language": "python",
   "name": "python3"
  },
  "language_info": {
   "codemirror_mode": {
    "name": "ipython",
    "version": 3
   },
   "file_extension": ".py",
   "mimetype": "text/x-python",
   "name": "python",
   "nbconvert_exporter": "python",
   "pygments_lexer": "ipython3",
   "version": "3.12.8"
  }
 },
 "nbformat": 4,
 "nbformat_minor": 5
}
