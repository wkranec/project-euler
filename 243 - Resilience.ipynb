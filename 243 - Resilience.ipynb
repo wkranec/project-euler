{
 "cells": [
  {
   "cell_type": "markdown",
   "id": "4544a46b",
   "metadata": {},
   "source": [
    "# Problem 243: Resilience"
   ]
  },
  {
   "cell_type": "markdown",
   "id": "0d0d2039",
   "metadata": {},
   "source": [
    "A positive fraction whose numerator is less than its denominator is called a proper fraction.\n",
    "For any denominator, $d$, there will be $d−1$ proper fractions; for example, with $d = 12$:\n",
    "\n",
    "$\\frac{1}{12}, \\frac{2}{12}, \\frac{3}{12}, \\frac{4}{12}, \\frac{5}{12}, \\frac{6}{12}, \\frac{7}{12}, \\frac{8}{12}, \\frac{9}{12}, \\frac{10}{12}, \\frac{11}{12}$ .\n",
    "\n",
    "We shall call a fraction that cannot be cancelled down a resilient fraction.  Furthermore, we shall define the resilience of a denominator, $R(d)$, to be the ratio of its proper fractions that are resilient; for example, $R(12) = 4/11$ .\n",
    "\n",
    "In fact, $d = 12$ is the smallest denominator having a resilience $R(d) < 4/10$ .\n",
    "\n",
    "Find the smallest denominator $d$, having a resilience $R(d) < 15499/94744$ ."
   ]
  },
  {
   "cell_type": "code",
   "execution_count": 60,
   "id": "db4127a7",
   "metadata": {
    "collapsed": false,
    "jupyter": {
     "outputs_hidden": false
    }
   },
   "outputs": [],
   "source": [
    "## First try.\n",
    "import fractions\n",
    "import itertools\n",
    "\n",
    "def R(d):\n",
    "    return fractions.Fraction(sum(itertools.imap(lambda i: fractions.gcd(i, d) == 1, xrange(1,d))), d-1)"
   ]
  },
  {
   "cell_type": "code",
   "execution_count": null,
   "id": "472c4ce7",
   "metadata": {
    "collapsed": false,
    "jupyter": {
     "outputs_hidden": false
    }
   },
   "outputs": [],
   "source": [
    "## Too slow ...\n",
    "target = fractions.Fraction(15499, 94744)\n",
    "for d in xrange(10000, 100000):\n",
    "    result = R(d)\n",
    "    if result < target:\n",
    "        print d, result\n",
    "        break"
   ]
  },
  {
   "cell_type": "markdown",
   "id": "3bd257b8",
   "metadata": {},
   "source": [
    "## Euler's Totient Function"
   ]
  },
  {
   "cell_type": "markdown",
   "id": "e4e31849",
   "metadata": {},
   "source": [
    "From https://en.wikipedia.org/wiki/Euler's_totient_function:\n",
    "\n",
    "In number theory, Euler's totient function (or Euler's phi function), denoted as $\\varphi(n)$, is an arithmetic function that counts the positive integers less than or equal to $n$ that are relatively prime to $n$. (These integers are sometimes referred to as _totatives_ of $n$.) Thus, if $n$ is a positive integer, then $\\varphi(n)$ is the number of integers $k$ in the range $1 \\leq k \\leq n$ for which the greatest common divisor $\\textrm{gcd}(n, k) = 1$.\n",
    "\n",
    "Euler's totient function is a multiplicative function, meaning that if two numbers $m$ and $n$ are coprime, then $\\varphi(mn) = \\varphi(m) \\varphi(n)$."
   ]
  },
  {
   "cell_type": "markdown",
   "id": "10d6432c",
   "metadata": {},
   "source": [
    "Therefore, we can rewrite $R(d)$ as:\n",
    "$$ R(d) = \\frac{\\varphi(d)}{d-1} $$\n",
    "with\n",
    "$$\\varphi(d) = d \\prod_{p \\mid d} \\left(1-\\frac{1}{p}\\right)$$\n",
    "where the product is over the distinct prime numbers dividing $n$."
   ]
  },
  {
   "cell_type": "code",
   "execution_count": 37,
   "id": "a790a831",
   "metadata": {
    "collapsed": false,
    "jupyter": {
     "outputs_hidden": false
    }
   },
   "outputs": [],
   "source": [
    "def primes_up_to(n):\n",
    "    if n <= 2:\n",
    "        raise StopIteration\n",
    "    yield 2\n",
    "    for i in xrange(3, n, 2):\n",
    "        for x in xrange(3, int(i**0.5)+2, 2):\n",
    "            if not i % x:\n",
    "                break\n",
    "        else:\n",
    "            yield i\n",
    "\n",
    "PRIMES = [ p for p in primes_up_to(10000000) ]"
   ]
  },
  {
   "cell_type": "code",
   "execution_count": 48,
   "id": "3a2c979b",
   "metadata": {
    "collapsed": false,
    "jupyter": {
     "outputs_hidden": false
    }
   },
   "outputs": [],
   "source": [
    "import operator\n",
    "\n",
    "def phi(d):\n",
    "    return int(d * reduce(operator.mul, map(lambda p: 1 - fractions.Fraction(1, p), filter(lambda p: d % p == 0, PRIMES))))"
   ]
  },
  {
   "cell_type": "code",
   "execution_count": 62,
   "id": "068a793f",
   "metadata": {
    "collapsed": false,
    "jupyter": {
     "outputs_hidden": false
    }
   },
   "outputs": [],
   "source": [
    "def R(d):\n",
    "    return fractions.Fraction(phi(d), d-1)"
   ]
  },
  {
   "cell_type": "code",
   "execution_count": 64,
   "id": "4bae79c0",
   "metadata": {
    "collapsed": false,
    "jupyter": {
     "outputs_hidden": false
    }
   },
   "outputs": [
    {
     "ename": "KeyboardInterrupt",
     "evalue": "",
     "output_type": "error",
     "traceback": [
      "\u001b[0;31m---------------------------------------------------------------------------\u001b[0m\n\u001b[0;31mKeyboardInterrupt\u001b[0m                         Traceback (most recent call last)",
      "\u001b[0;32m<ipython-input-64-9e63a8593d27>\u001b[0m in \u001b[0;36m<module>\u001b[0;34m()\u001b[0m\n\u001b[1;32m      1\u001b[0m \u001b[0mtarget\u001b[0m \u001b[0;34m=\u001b[0m \u001b[0mfractions\u001b[0m\u001b[0;34m.\u001b[0m\u001b[0mFraction\u001b[0m\u001b[0;34m(\u001b[0m\u001b[0;36m15499\u001b[0m\u001b[0;34m,\u001b[0m \u001b[0;36m94744\u001b[0m\u001b[0;34m)\u001b[0m\u001b[0;34m\u001b[0m\u001b[0m\n\u001b[1;32m      2\u001b[0m \u001b[0;32mfor\u001b[0m \u001b[0md\u001b[0m \u001b[0;32min\u001b[0m \u001b[0mxrange\u001b[0m\u001b[0;34m(\u001b[0m\u001b[0;36m94744\u001b[0m\u001b[0;34m,\u001b[0m \u001b[0;36m1000000\u001b[0m\u001b[0;34m)\u001b[0m\u001b[0;34m:\u001b[0m\u001b[0;34m\u001b[0m\u001b[0m\n\u001b[0;32m----> 3\u001b[0;31m     \u001b[0mresult\u001b[0m \u001b[0;34m=\u001b[0m \u001b[0mR\u001b[0m\u001b[0;34m(\u001b[0m\u001b[0md\u001b[0m\u001b[0;34m)\u001b[0m\u001b[0;34m\u001b[0m\u001b[0m\n\u001b[0m\u001b[1;32m      4\u001b[0m     \u001b[0;32mif\u001b[0m \u001b[0mresult\u001b[0m \u001b[0;34m<\u001b[0m \u001b[0mtarget\u001b[0m\u001b[0;34m:\u001b[0m\u001b[0;34m\u001b[0m\u001b[0m\n\u001b[1;32m      5\u001b[0m         \u001b[0;32mprint\u001b[0m \u001b[0md\u001b[0m\u001b[0;34m,\u001b[0m \u001b[0mresult\u001b[0m\u001b[0;34m\u001b[0m\u001b[0m\n",
      "\u001b[0;32m<ipython-input-62-9147c676fba4>\u001b[0m in \u001b[0;36mR\u001b[0;34m(d)\u001b[0m\n\u001b[1;32m      1\u001b[0m \u001b[0;32mdef\u001b[0m \u001b[0mR\u001b[0m\u001b[0;34m(\u001b[0m\u001b[0md\u001b[0m\u001b[0;34m)\u001b[0m\u001b[0;34m:\u001b[0m\u001b[0;34m\u001b[0m\u001b[0m\n\u001b[0;32m----> 2\u001b[0;31m     \u001b[0;32mreturn\u001b[0m \u001b[0mfractions\u001b[0m\u001b[0;34m.\u001b[0m\u001b[0mFraction\u001b[0m\u001b[0;34m(\u001b[0m\u001b[0mphi\u001b[0m\u001b[0;34m(\u001b[0m\u001b[0md\u001b[0m\u001b[0;34m)\u001b[0m\u001b[0;34m,\u001b[0m \u001b[0md\u001b[0m\u001b[0;34m-\u001b[0m\u001b[0;36m1\u001b[0m\u001b[0;34m)\u001b[0m\u001b[0;34m\u001b[0m\u001b[0m\n\u001b[0m",
      "\u001b[0;32m<ipython-input-48-1108a507aaf7>\u001b[0m in \u001b[0;36mphi\u001b[0;34m(d)\u001b[0m\n\u001b[1;32m      1\u001b[0m \u001b[0;32mdef\u001b[0m \u001b[0mphi\u001b[0m\u001b[0;34m(\u001b[0m\u001b[0md\u001b[0m\u001b[0;34m)\u001b[0m\u001b[0;34m:\u001b[0m\u001b[0;34m\u001b[0m\u001b[0m\n\u001b[0;32m----> 2\u001b[0;31m     \u001b[0;32mreturn\u001b[0m \u001b[0mint\u001b[0m\u001b[0;34m(\u001b[0m\u001b[0md\u001b[0m \u001b[0;34m*\u001b[0m \u001b[0mreduce\u001b[0m\u001b[0;34m(\u001b[0m\u001b[0moperator\u001b[0m\u001b[0;34m.\u001b[0m\u001b[0mmul\u001b[0m\u001b[0;34m,\u001b[0m \u001b[0mmap\u001b[0m\u001b[0;34m(\u001b[0m\u001b[0;32mlambda\u001b[0m \u001b[0mp\u001b[0m\u001b[0;34m:\u001b[0m \u001b[0;36m1\u001b[0m \u001b[0;34m-\u001b[0m \u001b[0mfractions\u001b[0m\u001b[0;34m.\u001b[0m\u001b[0mFraction\u001b[0m\u001b[0;34m(\u001b[0m\u001b[0;36m1\u001b[0m\u001b[0;34m,\u001b[0m \u001b[0mp\u001b[0m\u001b[0;34m)\u001b[0m\u001b[0;34m,\u001b[0m \u001b[0mfilter\u001b[0m\u001b[0;34m(\u001b[0m\u001b[0;32mlambda\u001b[0m \u001b[0mp\u001b[0m\u001b[0;34m:\u001b[0m \u001b[0md\u001b[0m \u001b[0;34m%\u001b[0m \u001b[0mp\u001b[0m \u001b[0;34m==\u001b[0m \u001b[0;36m0\u001b[0m\u001b[0;34m,\u001b[0m \u001b[0mPRIMES\u001b[0m\u001b[0;34m)\u001b[0m\u001b[0;34m)\u001b[0m\u001b[0;34m)\u001b[0m\u001b[0;34m)\u001b[0m\u001b[0;34m\u001b[0m\u001b[0m\n\u001b[0m",
      "\u001b[0;32m<ipython-input-48-1108a507aaf7>\u001b[0m in \u001b[0;36m<lambda>\u001b[0;34m(p)\u001b[0m\n\u001b[1;32m      1\u001b[0m \u001b[0;32mdef\u001b[0m \u001b[0mphi\u001b[0m\u001b[0;34m(\u001b[0m\u001b[0md\u001b[0m\u001b[0;34m)\u001b[0m\u001b[0;34m:\u001b[0m\u001b[0;34m\u001b[0m\u001b[0m\n\u001b[0;32m----> 2\u001b[0;31m     \u001b[0;32mreturn\u001b[0m \u001b[0mint\u001b[0m\u001b[0;34m(\u001b[0m\u001b[0md\u001b[0m \u001b[0;34m*\u001b[0m \u001b[0mreduce\u001b[0m\u001b[0;34m(\u001b[0m\u001b[0moperator\u001b[0m\u001b[0;34m.\u001b[0m\u001b[0mmul\u001b[0m\u001b[0;34m,\u001b[0m \u001b[0mmap\u001b[0m\u001b[0;34m(\u001b[0m\u001b[0;32mlambda\u001b[0m \u001b[0mp\u001b[0m\u001b[0;34m:\u001b[0m \u001b[0;36m1\u001b[0m \u001b[0;34m-\u001b[0m \u001b[0mfractions\u001b[0m\u001b[0;34m.\u001b[0m\u001b[0mFraction\u001b[0m\u001b[0;34m(\u001b[0m\u001b[0;36m1\u001b[0m\u001b[0;34m,\u001b[0m \u001b[0mp\u001b[0m\u001b[0;34m)\u001b[0m\u001b[0;34m,\u001b[0m \u001b[0mfilter\u001b[0m\u001b[0;34m(\u001b[0m\u001b[0;32mlambda\u001b[0m \u001b[0mp\u001b[0m\u001b[0;34m:\u001b[0m \u001b[0md\u001b[0m \u001b[0;34m%\u001b[0m \u001b[0mp\u001b[0m \u001b[0;34m==\u001b[0m \u001b[0;36m0\u001b[0m\u001b[0;34m,\u001b[0m \u001b[0mPRIMES\u001b[0m\u001b[0;34m)\u001b[0m\u001b[0;34m)\u001b[0m\u001b[0;34m)\u001b[0m\u001b[0;34m)\u001b[0m\u001b[0;34m\u001b[0m\u001b[0m\n\u001b[0m",
      "\u001b[0;31mKeyboardInterrupt\u001b[0m: "
     ]
    }
   ],
   "source": [
    "target = fractions.Fraction(15499, 94744)\n",
    "for d in xrange(94744, 1000000):\n",
    "    result = R(d)\n",
    "    if result < target:\n",
    "        print d, result\n",
    "        break"
   ]
  },
  {
   "cell_type": "code",
   "execution_count": 67,
   "id": "b3d0afb1",
   "metadata": {
    "collapsed": false,
    "jupyter": {
     "outputs_hidden": false
    }
   },
   "outputs": [
    {
     "data": {
      "text/plain": [
       "43680"
      ]
     },
     "execution_count": 67,
     "metadata": {},
     "output_type": "execute_result"
    }
   ],
   "source": [
    "phi(94744)"
   ]
  },
  {
   "cell_type": "code",
   "execution_count": null,
   "id": "c2fc5611",
   "metadata": {
    "collapsed": false,
    "jupyter": {
     "outputs_hidden": false
    }
   },
   "outputs": [],
   "source": []
  }
 ],
 "metadata": {
  "kernelspec": {
   "display_name": "Python 3 (ipykernel)",
   "language": "python",
   "name": "python3"
  },
  "language_info": {
   "codemirror_mode": {
    "name": "ipython",
    "version": 3
   },
   "file_extension": ".py",
   "mimetype": "text/x-python",
   "name": "python",
   "nbconvert_exporter": "python",
   "pygments_lexer": "ipython3",
   "version": "3.12.8"
  }
 },
 "nbformat": 4,
 "nbformat_minor": 5
}
