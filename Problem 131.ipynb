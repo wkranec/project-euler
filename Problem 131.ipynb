{
 "cells": [
  {
   "cell_type": "markdown",
   "id": "48c216c4",
   "metadata": {},
   "source": [
    "# Problem 131: Prime cube partnership"
   ]
  },
  {
   "cell_type": "markdown",
   "id": "cd87651f",
   "metadata": {},
   "source": [
    "There are some prime values, $p$, for which there exists a positive integer, $n$, such that the expression $n^3 + n^2p$ is a perfect cube.\n",
    "\n",
    "For example, when $p = 19$, $8^3 + 8^2×19 = 12^3$.\n",
    "\n",
    "What is perhaps most surprising is that for each prime with this property the value of $n$ is unique, and there are only four such primes below one-hundred.\n",
    "\n",
    "How many primes below one million have this remarkable property?"
   ]
  },
  {
   "cell_type": "code",
   "execution_count": 1,
   "id": "b849300a",
   "metadata": {
    "collapsed": false,
    "jupyter": {
     "outputs_hidden": false
    }
   },
   "outputs": [],
   "source": [
    "def getPrimes(n):\n",
    "    if n <= 2:\n",
    "        raise StopIteration\n",
    "    yield 2\n",
    "    for i in range(3, n, 2):\n",
    "        for x in range(3, int(i**0.5)+2, 2):\n",
    "            if not i % x:\n",
    "                break\n",
    "        else:\n",
    "            yield i"
   ]
  },
  {
   "cell_type": "code",
   "execution_count": 2,
   "id": "5e567d69",
   "metadata": {
    "collapsed": false,
    "jupyter": {
     "outputs_hidden": false
    }
   },
   "outputs": [],
   "source": [
    "primes = [ n for n in getPrimes(10000) ]"
   ]
  },
  {
   "cell_type": "code",
   "execution_count": 3,
   "id": "d6993b87",
   "metadata": {
    "collapsed": false,
    "jupyter": {
     "outputs_hidden": false
    }
   },
   "outputs": [],
   "source": [
    "pairs = []\n",
    "for a in range(2, 10000):\n",
    "    for n in range(2, a):\n",
    "        if (a**3-n**3) % n**2 == 0:\n",
    "            pairs.append((a, n, (a**3-n**3) / n**2))"
   ]
  },
  {
   "cell_type": "code",
   "execution_count": 4,
   "id": "f0876cfe",
   "metadata": {
    "collapsed": false,
    "jupyter": {
     "outputs_hidden": false
    }
   },
   "outputs": [],
   "source": [
    "def f(a, n):\n",
    "    return (a**3-n**3) / n**2"
   ]
  },
  {
   "cell_type": "code",
   "execution_count": 5,
   "id": "535236d4",
   "metadata": {
    "collapsed": false,
    "jupyter": {
     "outputs_hidden": false
    }
   },
   "outputs": [],
   "source": [
    "def g(a, n):\n",
    "    return (a**3-n**3) % n**2 == 0"
   ]
  },
  {
   "cell_type": "code",
   "execution_count": 6,
   "id": "d3e7f3a3",
   "metadata": {
    "collapsed": false,
    "jupyter": {
     "outputs_hidden": false
    }
   },
   "outputs": [
    {
     "data": {
      "text/plain": [
       "<filter at 0x7fdf632f4eb0>"
      ]
     },
     "execution_count": 6,
     "metadata": {},
     "output_type": "execute_result"
    }
   ],
   "source": [
    "filter(lambda x: x[2] in primes, pairs)"
   ]
  },
  {
   "cell_type": "code",
   "execution_count": 7,
   "id": "a709b7fd",
   "metadata": {
    "collapsed": false,
    "jupyter": {
     "outputs_hidden": false
    }
   },
   "outputs": [],
   "source": [
    "pairs = [ (a, n, f(a, n)) for a in range(1, 100000) for n in range(2, a) if g(a, n) ]"
   ]
  },
  {
   "cell_type": "code",
   "execution_count": 8,
   "id": "d5032c0f",
   "metadata": {
    "collapsed": false,
    "jupyter": {
     "outputs_hidden": false
    }
   },
   "outputs": [
    {
     "data": {
      "text/plain": [
       "1213057"
      ]
     },
     "execution_count": 8,
     "metadata": {},
     "output_type": "execute_result"
    }
   ],
   "source": [
    "len(pairs)"
   ]
  },
  {
   "cell_type": "code",
   "execution_count": null,
   "id": "976b3193",
   "metadata": {
    "collapsed": false,
    "jupyter": {
     "outputs_hidden": false
    }
   },
   "outputs": [],
   "source": []
  }
 ],
 "metadata": {
  "kernelspec": {
   "display_name": "Python 3 (ipykernel)",
   "language": "python",
   "name": "python3"
  },
  "language_info": {
   "codemirror_mode": {
    "name": "ipython",
    "version": 3
   },
   "file_extension": ".py",
   "mimetype": "text/x-python",
   "name": "python",
   "nbconvert_exporter": "python",
   "pygments_lexer": "ipython3",
   "version": "3.11.10"
  }
 },
 "nbformat": 4,
 "nbformat_minor": 5
}
