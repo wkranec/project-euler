{
 "cells": [
  {
   "cell_type": "markdown",
   "id": "94bc6dd2-a122-4a21-98dd-740c3980a141",
   "metadata": {},
   "source": [
    "# Problem 9: Special Pythagorean Triplet"
   ]
  },
  {
   "cell_type": "markdown",
   "id": "d4d386e1-1ce6-4ea2-97a8-d5081b294ea5",
   "metadata": {},
   "source": [
    "A Pythagorean triplet is a set of three natural numbers, $a < b < c$, for which,\n",
    "\n",
    "$$\n",
    "a^2+b^2 = c^2\n",
    "$$\n",
    "\n",
    "For example, $3^2 + 4^2 = 9 + 16 = 25 = 5^2$.\n",
    "\n",
    "There exists exactly one Pythagorean triplet for which $a + b + c = 1000$.\n",
    "Find the product $abc$."
   ]
  },
  {
   "cell_type": "markdown",
   "id": "09a1c973-dc57-415a-86eb-23d9ba6c0947",
   "metadata": {},
   "source": [
    "This problem is small enough to be successful with a straightforward approach:"
   ]
  },
  {
   "cell_type": "code",
   "execution_count": 3,
   "id": "d409fe9d-147f-44b6-895a-5d7399d1bcd2",
   "metadata": {},
   "outputs": [
    {
     "name": "stdout",
     "output_type": "stream",
     "text": [
      "375 200 425\n",
      "31875000\n"
     ]
    }
   ],
   "source": [
    "for a in range(1, 1001):\n",
    "    for b in range(1, a+1):\n",
    "        c = 1000 - b - a\n",
    "        if a**2 + b**2 == c**2:\n",
    "            print(a, b, c)\n",
    "            print(a * b * c)"
   ]
  }
 ],
 "metadata": {
  "kernelspec": {
   "display_name": "Python 3 (ipykernel)",
   "language": "python",
   "name": "python3"
  },
  "language_info": {
   "codemirror_mode": {
    "name": "ipython",
    "version": 3
   },
   "file_extension": ".py",
   "mimetype": "text/x-python",
   "name": "python",
   "nbconvert_exporter": "python",
   "pygments_lexer": "ipython3",
   "version": "3.12.8"
  }
 },
 "nbformat": 4,
 "nbformat_minor": 5
}
