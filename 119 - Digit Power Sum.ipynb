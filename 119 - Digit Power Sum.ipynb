{
 "cells": [
  {
   "cell_type": "markdown",
   "id": "efa7a54f",
   "metadata": {},
   "source": [
    "# Problem 119: Digit Power Sum"
   ]
  },
  {
   "cell_type": "markdown",
   "id": "aefa0993",
   "metadata": {},
   "source": [
    "The number 512 is interesting because it is equal to the sum of its digits raised to some power: 5 + 1 + 2 = 8, and $8^3 = 512$. Another example of a number with this property is $614656 = 28^4$.\n",
    "\n",
    "We shall define $a_n$ to be the $n$th term of this sequence and insist that a number must contain at least two digits to have a sum.\n",
    "\n",
    "You are given that $a_2 = 512$ and $a_{10} = 614656$.\n",
    "\n",
    "Find $a_{30}$."
   ]
  },
  {
   "cell_type": "code",
   "execution_count": 1,
   "id": "16b9a11c",
   "metadata": {
    "collapsed": false,
    "jupyter": {
     "outputs_hidden": false
    }
   },
   "outputs": [],
   "source": [
    "def digits(integer):\n",
    "    return [ int(x) for x in str(integer) ]"
   ]
  },
  {
   "cell_type": "code",
   "execution_count": 3,
   "id": "ca7125c0",
   "metadata": {
    "collapsed": false,
    "jupyter": {
     "outputs_hidden": false
    }
   },
   "outputs": [
    {
     "name": "stdout",
     "output_type": "stream",
     "text": [
      " 1  81             \n",
      " 2  512            \n",
      " 3  2401           \n",
      " 4  4913           \n",
      " 5  5832           \n",
      " 6  17576          \n",
      " 7  19683          \n",
      " 8  234256         \n",
      " 9  390625         \n",
      "10  614656         \n",
      "11  1679616        \n",
      "12  17210368       \n",
      "13  34012224       \n",
      "14  52521875       \n",
      "15  60466176       \n",
      "16  205962976      \n",
      "17  612220032      \n",
      "18  8303765625     \n",
      "19  10460353203    \n",
      "20  24794911296    \n",
      "21  27512614111    \n",
      "22  52523350144    \n",
      "23  68719476736    \n",
      "24  271818611107   \n",
      "25  1174711139837  \n",
      "26  2207984167552  \n",
      "27  6722988818432  \n",
      "28  20047612231936 \n",
      "29  72301961339136 \n",
      "30  248155780267521\n",
      "31  3904305912313344\n",
      "32  45848500718449031\n",
      "33  81920000000000000\n",
      "34  150094635296999121\n",
      "35  13744803133596058624\n",
      "36  19687440434072265625\n",
      "37  53861511409489970176\n",
      "38  73742412689492826049\n"
     ]
    }
   ],
   "source": [
    "import math\n",
    "\n",
    "max_power = 20\n",
    "max_digit_sum = 9 * (max_power - 1)\n",
    "\n",
    "results = []\n",
    "for n in range(2, max_digit_sum + 1):\n",
    "    max_exponent = int(math.log(10 ** max_power, n))\n",
    "    values = [ n ** k for k in range(2, max_exponent + 1) ]\n",
    "    results.extend(filter(lambda x: n == sum(digits(x)), values))\n",
    "\n",
    "for index, value in enumerate(sorted(results)):\n",
    "    print(\"%2s  %-15s\" % (index + 1, value))"
   ]
  },
  {
   "cell_type": "code",
   "execution_count": null,
   "id": "cc0f82d7",
   "metadata": {
    "collapsed": false,
    "jupyter": {
     "outputs_hidden": false
    }
   },
   "outputs": [],
   "source": []
  }
 ],
 "metadata": {
  "kernelspec": {
   "display_name": "Python 3 (ipykernel)",
   "language": "python",
   "name": "python3"
  },
  "language_info": {
   "codemirror_mode": {
    "name": "ipython",
    "version": 3
   },
   "file_extension": ".py",
   "mimetype": "text/x-python",
   "name": "python",
   "nbconvert_exporter": "python",
   "pygments_lexer": "ipython3",
   "version": "3.12.8"
  }
 },
 "nbformat": 4,
 "nbformat_minor": 5
}
