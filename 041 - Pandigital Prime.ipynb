{
 "cells": [
  {
   "cell_type": "markdown",
   "id": "ac8f6616-c94a-4c83-9034-512f6d63e88f",
   "metadata": {},
   "source": [
    "# Problem 41: Pandigital Prime"
   ]
  },
  {
   "cell_type": "markdown",
   "id": "4be0a124-9439-4d4e-b972-22a903fb1adf",
   "metadata": {},
   "source": [
    "We shall say that an $n$-digit number is _pandigital_ if it makes use of all the digits 1 to $n$ exactly once. For example, 2143 is a 4-digit pandigital and is also prime.\n",
    "\n",
    "What is the largest $n$-digit pandigital prime that exists?"
   ]
  },
  {
   "cell_type": "code",
   "execution_count": 1,
   "id": "42103431-d517-44c3-b481-345a100848b3",
   "metadata": {},
   "outputs": [],
   "source": [
    "import library"
   ]
  },
  {
   "cell_type": "code",
   "execution_count": 2,
   "id": "1121e6f0-16db-4cb7-8329-377f1a95d4d1",
   "metadata": {},
   "outputs": [],
   "source": [
    "def is_pandigital(x):\n",
    "    digits = library.digits(x)\n",
    "    return set(digits) == set(range(1, len(digits)+1))"
   ]
  },
  {
   "cell_type": "markdown",
   "id": "a960ecc1-3e81-4394-9298-3bf1d07ee128",
   "metadata": {},
   "source": [
    "As usual, we can approach the problem with relatively simple code, but this brute force approach takes a really long time."
   ]
  },
  {
   "cell_type": "code",
   "execution_count": 3,
   "id": "ee2fd7f5-7c90-47ba-b532-5146b965c5ea",
   "metadata": {},
   "outputs": [],
   "source": [
    "# pandigital_primes = [ x for x in library.primes_up_to(10**9) if is_pandigital(x) ]"
   ]
  },
  {
   "cell_type": "markdown",
   "id": "3092900a-bac4-4074-96d4-a2480f49a2bb",
   "metadata": {},
   "source": [
    "We can take a different approach, generating all pandigital numbers by generating all permutations of a list of digits, using the `itertools` library."
   ]
  },
  {
   "cell_type": "code",
   "execution_count": 4,
   "id": "7be7f95c-2ffd-4c7a-934f-8e699c2742a0",
   "metadata": {},
   "outputs": [],
   "source": [
    "import itertools"
   ]
  },
  {
   "cell_type": "markdown",
   "id": "18307d29-ecf1-4b51-9609-cddfefa3e777",
   "metadata": {},
   "source": [
    "`itertools.permutations` generates results as tuples, e.g. `(1,2,3)`, so we need a function to convert each tuple into a number"
   ]
  },
  {
   "cell_type": "code",
   "execution_count": 5,
   "id": "1eb49f2e-0c0a-4e3d-922d-d4b1d470da7a",
   "metadata": {},
   "outputs": [],
   "source": [
    "def digits_to_number(t):\n",
    "    return int(str().join(map(str, t)))"
   ]
  },
  {
   "cell_type": "markdown",
   "id": "c6ed30ec-5d06-47cb-a207-6de9269fd58a",
   "metadata": {},
   "source": [
    "Now we can brute force the problem a different way, by generating all pandigital numbers for a given number of digits, and filtering that list for prime numbers.  (I'm doing this in two steps for clarity ... the code could be condensed further.)"
   ]
  },
  {
   "cell_type": "code",
   "execution_count": 6,
   "id": "de3cbb99-d8a1-4ca8-a9dd-340c48b11a46",
   "metadata": {},
   "outputs": [],
   "source": [
    "pandigital_numbers = [ digits_to_number(x) for n in range(2, 10) for x in itertools.permutations(range(1, n+1)) ]"
   ]
  },
  {
   "cell_type": "code",
   "execution_count": 7,
   "id": "99abb8e5-1134-4fb3-a886-2712abe3a7e0",
   "metadata": {},
   "outputs": [],
   "source": [
    "pandigital_primes = list(filter(library.is_prime, pandigital_numbers))"
   ]
  },
  {
   "cell_type": "markdown",
   "id": "1ae41b97-881c-4a10-83a3-53f083006a83",
   "metadata": {},
   "source": [
    "The largest $n$-digit pandigital prime that exists: 7,652,413"
   ]
  },
  {
   "cell_type": "code",
   "execution_count": 8,
   "id": "ee9c11fa-90c4-4532-8e22-bf0c6689d244",
   "metadata": {},
   "outputs": [
    {
     "data": {
      "text/plain": [
       "7652413"
      ]
     },
     "execution_count": 8,
     "metadata": {},
     "output_type": "execute_result"
    }
   ],
   "source": [
    "pandigital_primes[-1]"
   ]
  }
 ],
 "metadata": {
  "kernelspec": {
   "display_name": "Python 3 (ipykernel)",
   "language": "python",
   "name": "python3"
  },
  "language_info": {
   "codemirror_mode": {
    "name": "ipython",
    "version": 3
   },
   "file_extension": ".py",
   "mimetype": "text/x-python",
   "name": "python",
   "nbconvert_exporter": "python",
   "pygments_lexer": "ipython3",
   "version": "3.12.8"
  }
 },
 "nbformat": 4,
 "nbformat_minor": 5
}
