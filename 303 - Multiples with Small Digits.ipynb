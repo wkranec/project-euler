{
 "cells": [
  {
   "cell_type": "markdown",
   "id": "18e3075d-8812-4b6e-a977-85ff7875e817",
   "metadata": {},
   "source": [
    "# Problem 303: Multiples with Small Digits"
   ]
  },
  {
   "cell_type": "markdown",
   "id": "7f360c60-ee68-4866-82ff-40ac5ebed464",
   "metadata": {},
   "source": [
    "For a positive integer $n$, define $f(n)$ as the least positive multiple of $n$ that, written in base $10$, uses only digits $\\le 2$.\n",
    "\n",
    "Thus $f(2)=2$, $f(3)=12$, $f(7)=21$, $f(42)=210$, $f(89)=1121222$.\n",
    "\n",
    "Also, \n",
    "\n",
    "$$\n",
    "\\sum_{n=1}^{100} {f(n) \\over n} = 11363107\n",
    "$$\n",
    "\n",
    "Find\n",
    "$$\n",
    "\\sum_{n=1}^{10000} {f(n) \\over n}\n",
    "$$"
   ]
  },
  {
   "cell_type": "markdown",
   "id": "447238a9-9b8b-4128-a9d8-13c595724f34",
   "metadata": {},
   "source": [
    "First steps, starting relatively simply:"
   ]
  },
  {
   "cell_type": "code",
   "execution_count": 1,
   "id": "70b02088-0e16-4755-905a-9146c675fcb8",
   "metadata": {},
   "outputs": [],
   "source": [
    "import library"
   ]
  },
  {
   "cell_type": "code",
   "execution_count": 2,
   "id": "caf8dae2-282e-422c-9d1d-16cffb65b82d",
   "metadata": {},
   "outputs": [],
   "source": [
    "def f(n):\n",
    "    k = n\n",
    "    while set(library.digits(k)) - {0, 1, 2} != set():\n",
    "        k += n\n",
    "\n",
    "    return k"
   ]
  },
  {
   "cell_type": "markdown",
   "id": "ce6be783-dac3-4536-8b88-997158c7b1bd",
   "metadata": {},
   "source": [
    "Run some tests to confirm the examples in the problem:"
   ]
  },
  {
   "cell_type": "code",
   "execution_count": 3,
   "id": "f56eae4f-b2c4-4a8f-b1f8-5258dfeadecf",
   "metadata": {},
   "outputs": [
    {
     "data": {
      "text/plain": [
       "2"
      ]
     },
     "execution_count": 3,
     "metadata": {},
     "output_type": "execute_result"
    }
   ],
   "source": [
    "f(2)"
   ]
  },
  {
   "cell_type": "code",
   "execution_count": 4,
   "id": "0ae132c7-0315-4eef-89bc-c45b8c0cbfa4",
   "metadata": {},
   "outputs": [
    {
     "data": {
      "text/plain": [
       "12"
      ]
     },
     "execution_count": 4,
     "metadata": {},
     "output_type": "execute_result"
    }
   ],
   "source": [
    "f(3)"
   ]
  },
  {
   "cell_type": "code",
   "execution_count": 5,
   "id": "33b38604-7dfa-455c-aa8d-f42add57ea9b",
   "metadata": {},
   "outputs": [
    {
     "data": {
      "text/plain": [
       "21"
      ]
     },
     "execution_count": 5,
     "metadata": {},
     "output_type": "execute_result"
    }
   ],
   "source": [
    "f(7)"
   ]
  },
  {
   "cell_type": "code",
   "execution_count": 6,
   "id": "99294fb1-18ae-488c-9109-36c0a1e7e06a",
   "metadata": {},
   "outputs": [
    {
     "data": {
      "text/plain": [
       "210"
      ]
     },
     "execution_count": 6,
     "metadata": {},
     "output_type": "execute_result"
    }
   ],
   "source": [
    "f(42)"
   ]
  },
  {
   "cell_type": "code",
   "execution_count": 7,
   "id": "eb083c8f-e62b-4658-bb98-340eb0da6842",
   "metadata": {},
   "outputs": [
    {
     "data": {
      "text/plain": [
       "1121222"
      ]
     },
     "execution_count": 7,
     "metadata": {},
     "output_type": "execute_result"
    }
   ],
   "source": [
    "f(89)"
   ]
  },
  {
   "cell_type": "code",
   "execution_count": 8,
   "id": "20fe9931-0da7-4066-a12d-27c3119e7982",
   "metadata": {},
   "outputs": [
    {
     "data": {
      "text/plain": [
       "11363107.0"
      ]
     },
     "execution_count": 8,
     "metadata": {},
     "output_type": "execute_result"
    }
   ],
   "source": [
    "sum([ f(n) / n for n in range(1, 101) ])"
   ]
  },
  {
   "cell_type": "markdown",
   "id": "793fbc4a-6d5b-4fce-885a-5562fad400ed",
   "metadata": {},
   "source": [
    "Now give the full sum a try.  _(You probably wouldn't expect this to work ... and it doesn't.)_"
   ]
  },
  {
   "cell_type": "code",
   "execution_count": 9,
   "id": "1bc9adbf-5706-46f7-a784-cce4ee10ba55",
   "metadata": {},
   "outputs": [],
   "source": [
    "# sum([ f(n) / n for n in range(1, 10001) ])"
   ]
  },
  {
   "cell_type": "markdown",
   "id": "c86f7a41-cf63-49e9-ab9d-f662c09102e3",
   "metadata": {},
   "source": [
    "## Performance Testing"
   ]
  },
  {
   "cell_type": "markdown",
   "id": "8b36f586-23f5-4e01-8551-3c283ab0af20",
   "metadata": {},
   "source": [
    "As usual, my initial implementation was pretty slow.  I'm not sure how far it got before I killed it.  Let me try some speed testing to see if there's something better:"
   ]
  },
  {
   "cell_type": "code",
   "execution_count": 10,
   "id": "bdf08553-22c6-4dd2-9a2a-25b3060e532a",
   "metadata": {},
   "outputs": [],
   "source": [
    "# Starting point\n",
    "def f(n):\n",
    "    k = n\n",
    "    while set(library.digits(k)) - {0, 1, 2} != set():\n",
    "        k += n\n",
    "\n",
    "    return k"
   ]
  },
  {
   "cell_type": "code",
   "execution_count": 11,
   "id": "abfd260f-4ad3-4b3e-a142-355ed4edae7d",
   "metadata": {},
   "outputs": [
    {
     "name": "stdout",
     "output_type": "stream",
     "text": [
      "374 ns ± 5.77 ns per loop (mean ± std. dev. of 7 runs, 1,000,000 loops each)\n"
     ]
    }
   ],
   "source": [
    "%%timeit\n",
    "x = 1234\n",
    "library.digits(x)"
   ]
  },
  {
   "cell_type": "code",
   "execution_count": 12,
   "id": "e52e6dbe-a04f-4baa-9055-eb84b3b12c9b",
   "metadata": {},
   "outputs": [
    {
     "name": "stdout",
     "output_type": "stream",
     "text": [
      "492 ns ± 22.5 ns per loop (mean ± std. dev. of 7 runs, 1,000,000 loops each)\n"
     ]
    }
   ],
   "source": [
    "%%timeit\n",
    "x = 1234\n",
    "set(library.digits(x))"
   ]
  },
  {
   "cell_type": "code",
   "execution_count": 13,
   "id": "cd58077f-4811-494b-9bb8-8ee452ac5f76",
   "metadata": {},
   "outputs": [
    {
     "name": "stdout",
     "output_type": "stream",
     "text": [
      "558 ns ± 23.4 ns per loop (mean ± std. dev. of 7 runs, 1,000,000 loops each)\n"
     ]
    }
   ],
   "source": [
    "%%timeit\n",
    "x = 1234\n",
    "set(library.digits(x)) - {0,1,2}"
   ]
  },
  {
   "cell_type": "code",
   "execution_count": 14,
   "id": "f65f9eb3-5973-4e75-b645-53979af8a3b3",
   "metadata": {},
   "outputs": [
    {
     "name": "stdout",
     "output_type": "stream",
     "text": [
      "617 ns ± 27.8 ns per loop (mean ± std. dev. of 7 runs, 1,000,000 loops each)\n"
     ]
    }
   ],
   "source": [
    "%%timeit\n",
    "x = 1234\n",
    "set(library.digits(x)) - {0,1,2} != set()"
   ]
  },
  {
   "cell_type": "code",
   "execution_count": 15,
   "id": "f884f1d3-de37-43c4-83c3-f743effbd13b",
   "metadata": {},
   "outputs": [
    {
     "name": "stdout",
     "output_type": "stream",
     "text": [
      "49.2 ns ± 3.9 ns per loop (mean ± std. dev. of 7 runs, 10,000,000 loops each)\n"
     ]
    }
   ],
   "source": [
    "%%timeit\n",
    "x = 1234\n",
    "str(x)"
   ]
  },
  {
   "cell_type": "code",
   "execution_count": 16,
   "id": "7283fc67-cd68-482c-a5d6-a1e707e0e501",
   "metadata": {},
   "outputs": [
    {
     "name": "stdout",
     "output_type": "stream",
     "text": [
      "266 ns ± 24 ns per loop (mean ± std. dev. of 7 runs, 1,000,000 loops each)\n"
     ]
    }
   ],
   "source": [
    "%%timeit\n",
    "# instead of building a set of all digits, just loop through the digits and break on the first one greater than two:\n",
    "x = 1234\n",
    "for x in str(x):\n",
    "    if int(x) > 2:\n",
    "        break\n",
    "else:\n",
    "    True"
   ]
  },
  {
   "cell_type": "code",
   "execution_count": 17,
   "id": "cc87a79c-29dd-4d9b-a032-72df289ce2c6",
   "metadata": {},
   "outputs": [
    {
     "name": "stdout",
     "output_type": "stream",
     "text": [
      "162 ns ± 9.34 ns per loop (mean ± std. dev. of 7 runs, 10,000,000 loops each)\n"
     ]
    }
   ],
   "source": [
    "%%timeit\n",
    "# same approach as above, but without doing an integer conversion:\n",
    "x = 1234\n",
    "digits = {'0', '1', '2'}\n",
    "for x in str(x):\n",
    "    if x not in digits:\n",
    "        break\n",
    "else:\n",
    "    True"
   ]
  },
  {
   "cell_type": "markdown",
   "id": "0336c1bd-6704-491a-9475-3a13e8172fbc",
   "metadata": {},
   "source": [
    "Conclusion: we can improve performance substantially by not using `set`, and by returning a result after the first digit that isn't in $\\{0, 1, 2\\}$."
   ]
  },
  {
   "cell_type": "code",
   "execution_count": 18,
   "id": "65d165b7-1139-43b4-9ede-3174e92cdec4",
   "metadata": {},
   "outputs": [],
   "source": [
    "def digit_greater_than_two(n):\n",
    "    digits = {'0', '1', '2'}\n",
    "    for d in str(n):\n",
    "        if d not in digits:\n",
    "            break\n",
    "    else:\n",
    "        return True\n",
    "\n",
    "    return False"
   ]
  },
  {
   "cell_type": "code",
   "execution_count": 19,
   "id": "e3bcce57-f10f-41f7-aa71-2fe0454497d1",
   "metadata": {},
   "outputs": [],
   "source": [
    "def g(n):\n",
    "    k = n\n",
    "    while not digit_greater_than_two(k):\n",
    "        k += n\n",
    "\n",
    "    return k"
   ]
  },
  {
   "cell_type": "code",
   "execution_count": 20,
   "id": "98ac8dd2-0df9-45c2-9963-f70ad649affd",
   "metadata": {},
   "outputs": [
    {
     "name": "stdout",
     "output_type": "stream",
     "text": [
      "12.1 ms ± 997 μs per loop (mean ± std. dev. of 7 runs, 100 loops each)\n"
     ]
    }
   ],
   "source": [
    "%%timeit\n",
    "f(89)"
   ]
  },
  {
   "cell_type": "code",
   "execution_count": 21,
   "id": "43e878ea-a95d-4515-b4f5-b1ad910e289f",
   "metadata": {},
   "outputs": [
    {
     "name": "stdout",
     "output_type": "stream",
     "text": [
      "2.16 ms ± 76.9 μs per loop (mean ± std. dev. of 7 runs, 100 loops each)\n"
     ]
    }
   ],
   "source": [
    "%%timeit\n",
    "g(89)"
   ]
  },
  {
   "cell_type": "code",
   "execution_count": 22,
   "id": "87a6c9b1-448f-42f4-b02a-3d4679760d0b",
   "metadata": {},
   "outputs": [
    {
     "data": {
      "text/plain": [
       "1121222"
      ]
     },
     "execution_count": 22,
     "metadata": {},
     "output_type": "execute_result"
    }
   ],
   "source": [
    "g(89)"
   ]
  },
  {
   "cell_type": "markdown",
   "id": "b1f3dd69-7a65-4535-87e8-8735b8941fe0",
   "metadata": {},
   "source": [
    "I didn't test it, but I suspect this approach also scales better to larger numbers."
   ]
  },
  {
   "cell_type": "markdown",
   "id": "ff2c45bb-22d6-4442-8f1b-92c72377a28c",
   "metadata": {},
   "source": [
    "Try the full sum again. _(I liked my chances better this time ... but this still doesn't work.)_"
   ]
  },
  {
   "cell_type": "code",
   "execution_count": 23,
   "id": "242b9eeb-ec2b-456f-82f0-1563761e7e8d",
   "metadata": {},
   "outputs": [],
   "source": [
    "# sum([ g(n) / n for n in range(1, 10001) ])"
   ]
  },
  {
   "cell_type": "markdown",
   "id": "cc02e239-e744-4172-b33d-394acca3a0ad",
   "metadata": {},
   "source": [
    "## Analysis and Planning"
   ]
  },
  {
   "cell_type": "markdown",
   "id": "c6beca54-3f08-49d3-b511-4ed7b0802a83",
   "metadata": {},
   "source": [
    "Letting the script run using $g(n)$ didn't produce a total in a reasonable amount of time.  Some \"napkin\" calculations suggest that this could take a _very_ long time."
   ]
  },
  {
   "cell_type": "markdown",
   "id": "a4c4d78d-76b7-458e-b1e5-7a271e2aa067",
   "metadata": {},
   "source": [
    "If I am really getting ~5ms per execution (as I did with g(89) above), this shouldn't take too long.  Estimated completion would be under a minute:"
   ]
  },
  {
   "cell_type": "code",
   "execution_count": 24,
   "id": "70c60805-f304-4729-af9d-0a3e63e2c52a",
   "metadata": {},
   "outputs": [
    {
     "data": {
      "text/plain": [
       "0.8333333333333334"
      ]
     },
     "execution_count": 24,
     "metadata": {},
     "output_type": "execute_result"
    }
   ],
   "source": [
    "0.005 * 10000 / 60"
   ]
  },
  {
   "cell_type": "markdown",
   "id": "6517e63c-50b9-4df4-8695-1d632c2b9510",
   "metadata": {},
   "source": [
    "Total run time (in hours) with 30 seconds per iteration is less comforting:"
   ]
  },
  {
   "cell_type": "code",
   "execution_count": 25,
   "id": "bb2837d8-a355-4412-b83e-bf120c2679af",
   "metadata": {},
   "outputs": [
    {
     "data": {
      "text/plain": [
       "83.33333333333333"
      ]
     },
     "execution_count": 25,
     "metadata": {},
     "output_type": "execute_result"
    }
   ],
   "source": [
    "30 * 10000 / 60 / 60"
   ]
  },
  {
   "cell_type": "markdown",
   "id": "4e7dbea5-80c2-4377-a298-4e659f823ee7",
   "metadata": {},
   "source": [
    "So we're slowing down somewhere, I'm just not sure where.  We probably need to collect some data on the longer running computations to improve the overall approach.  (I don't know of any number theory that might help us determine the digits with fewer computations.)"
   ]
  },
  {
   "cell_type": "markdown",
   "id": "c7623406-ec92-4dbe-9912-bf28c646b5fa",
   "metadata": {},
   "source": [
    "To start, create a Python decorator that can wrap an arbitrary function to measure how long it takes to complete.  We're also going to build in code to kill the function after a set period of time in order to control the overall run time."
   ]
  },
  {
   "cell_type": "markdown",
   "id": "29146aef-a977-4000-9898-508a0d79aff9",
   "metadata": {},
   "source": [
    "**Note**: this decorator was very useful; it's going in the library."
   ]
  },
  {
   "cell_type": "code",
   "execution_count": 26,
   "id": "c78dfe7d-7459-4305-a9fa-ad8cdfb44a6e",
   "metadata": {},
   "outputs": [],
   "source": [
    "import signal\n",
    "import time\n",
    "from functools import wraps\n",
    "\n",
    "def timed(timeout_seconds=None):\n",
    "    def decorator(func):\n",
    "        @wraps(func)\n",
    "        def wrapper(*args, **kwargs):\n",
    "            if timeout_seconds is not None:  # If timeout is specified\n",
    "                def timeout_handler(signum, frame):\n",
    "                    raise TimeoutError(\"Function execution exceeded the time limit.\")\n",
    "                \n",
    "                # Set the timeout signal handler\n",
    "                signal.signal(signal.SIGALRM, timeout_handler)\n",
    "                signal.alarm(timeout_seconds)  # Set the timeout duration\n",
    "            \n",
    "            try:\n",
    "                start_time = time.time()  # Start timing\n",
    "                result = func(*args, **kwargs)  # Execute the function\n",
    "                elapsed_time = time.time() - start_time  # Calculate elapsed time\n",
    "                return result, elapsed_time\n",
    "            except TimeoutError as e:\n",
    "                ## print(f\"Timeout occurred: {e}\")\n",
    "                return None, None\n",
    "            finally:\n",
    "                if timeout_seconds is not None:\n",
    "                    signal.alarm(0)  # Cancel the alarm\n",
    "        return wrapper\n",
    "    return decorator"
   ]
  },
  {
   "cell_type": "markdown",
   "id": "36e41eb5-de6d-4729-ba99-bde26fa95a30",
   "metadata": {},
   "source": [
    "Functions need to be redefined to make use of the decorator:"
   ]
  },
  {
   "cell_type": "code",
   "execution_count": 27,
   "id": "28d0f434-8bc3-4be5-a69f-511703118126",
   "metadata": {},
   "outputs": [],
   "source": [
    "@timed(10)\n",
    "def g(n):\n",
    "    k = n\n",
    "    while not digit_greater_than_two(k):\n",
    "        k += n\n",
    "\n",
    "    return k"
   ]
  },
  {
   "cell_type": "code",
   "execution_count": 28,
   "id": "eadef0b9-25ab-4ded-8ad3-d3b02199d569",
   "metadata": {},
   "outputs": [
    {
     "data": {
      "text/plain": [
       "(1121222, 0.0020639896392822266)"
      ]
     },
     "execution_count": 28,
     "metadata": {},
     "output_type": "execute_result"
    }
   ],
   "source": [
    "g(89)"
   ]
  },
  {
   "cell_type": "code",
   "execution_count": 29,
   "id": "dadbd457-e6c0-47b6-bbe1-4b7568fb6a54",
   "metadata": {},
   "outputs": [
    {
     "data": {
      "text/plain": [
       "(None, None)"
      ]
     },
     "execution_count": 29,
     "metadata": {},
     "output_type": "execute_result"
    }
   ],
   "source": [
    "g(999)"
   ]
  },
  {
   "cell_type": "markdown",
   "id": "9db6f0f7-50eb-48c3-9bcd-1eae10e6025d",
   "metadata": {},
   "source": [
    "Now we'll do some data analysis to figure out where we're having problems ..."
   ]
  },
  {
   "cell_type": "code",
   "execution_count": 30,
   "id": "f3cf96d0-6c6c-4afb-bda8-6b7e68e48927",
   "metadata": {},
   "outputs": [],
   "source": [
    "import pandas as pd"
   ]
  },
  {
   "cell_type": "code",
   "execution_count": 31,
   "id": "ba28c50e-7eb6-4dd2-8fd8-7c2e46f8ad7e",
   "metadata": {},
   "outputs": [],
   "source": [
    "# Define the column structure\n",
    "columns = ['n', 'f(n)', 'Elapsed Time']\n",
    "data_types = {'n': 'Int64', 'f(n)': 'Int64', 'Elapsed Time': 'Int64'}\n",
    "\n",
    "# Create an empty DataFrame with specified types\n",
    "df = pd.DataFrame(columns=columns).astype(data_types)"
   ]
  },
  {
   "cell_type": "code",
   "execution_count": 32,
   "id": "c6a8491a-ac48-4bb9-89f7-eacc8b7c58e7",
   "metadata": {},
   "outputs": [],
   "source": [
    "rows = []\n",
    "\n",
    "for n in range(1, 10001):\n",
    "    (f, t) = g(n)\n",
    "    \n",
    "    rows.append({'n': n, 'f(n)': f, 'Elapsed Time': t})\n",
    "\n",
    "df = pd.DataFrame(rows)\n",
    "df['f(n)'] = df['f(n)'].astype('Int64')\n",
    "df['Elapsed Time'] = (df['Elapsed Time']).round().astype('Int64')"
   ]
  },
  {
   "cell_type": "code",
   "execution_count": 33,
   "id": "23dd20d3-20dc-4989-be91-7a8743244581",
   "metadata": {},
   "outputs": [
    {
     "name": "stdout",
     "output_type": "stream",
     "text": [
      "          n          f(n)  Elapsed Time\n",
      "9980   9981     110200221             0\n",
      "9981   9982      21012110             0\n",
      "9982   9983     210112201             0\n",
      "9983   9984     111002112             0\n",
      "9984   9985     212201220             0\n",
      "9985   9986     121100222             0\n",
      "9986   9987      22201101             0\n",
      "9987   9988    1022012112             0\n",
      "9988   9989          <NA>          <NA>\n",
      "9989   9990          <NA>          <NA>\n",
      "9990   9991      11100001             0\n",
      "9991   9992      11101112             0\n",
      "9992   9993     211122111             0\n",
      "9993   9994    2012122002             0\n",
      "9994   9995   11110002220             0\n",
      "9995   9996      22211112             0\n",
      "9996   9997   20120222122             0\n",
      "9997   9998  111122211112             2\n",
      "9998   9999          <NA>          <NA>\n",
      "9999  10000         10000             0\n"
     ]
    }
   ],
   "source": [
    "with pd.option_context('display.max_rows', None):\n",
    "    print(df[-20:])"
   ]
  },
  {
   "cell_type": "markdown",
   "id": "a7d6728d-ddb0-4659-9210-9a9bad0f99ee",
   "metadata": {},
   "source": [
    "There are 13 values of $n$ for which computing $f(n)$ takes an extremely long time.  I suspect they're all related.\n",
    "\n",
    "(They are all multiples of 999, except for 9899, 9989, and 9999.)"
   ]
  },
  {
   "cell_type": "code",
   "execution_count": 34,
   "id": "7cfdbe2e-149c-4e46-9e1f-38b959f6d33c",
   "metadata": {},
   "outputs": [
    {
     "data": {
      "text/html": [
       "<div>\n",
       "<style scoped>\n",
       "    .dataframe tbody tr th:only-of-type {\n",
       "        vertical-align: middle;\n",
       "    }\n",
       "\n",
       "    .dataframe tbody tr th {\n",
       "        vertical-align: top;\n",
       "    }\n",
       "\n",
       "    .dataframe thead th {\n",
       "        text-align: right;\n",
       "    }\n",
       "</style>\n",
       "<table border=\"1\" class=\"dataframe\">\n",
       "  <thead>\n",
       "    <tr style=\"text-align: right;\">\n",
       "      <th></th>\n",
       "      <th>n</th>\n",
       "      <th>f(n)</th>\n",
       "      <th>Elapsed Time</th>\n",
       "    </tr>\n",
       "  </thead>\n",
       "  <tbody>\n",
       "    <tr>\n",
       "      <th>998</th>\n",
       "      <td>999</td>\n",
       "      <td>&lt;NA&gt;</td>\n",
       "      <td>&lt;NA&gt;</td>\n",
       "    </tr>\n",
       "    <tr>\n",
       "      <th>1997</th>\n",
       "      <td>1998</td>\n",
       "      <td>&lt;NA&gt;</td>\n",
       "      <td>&lt;NA&gt;</td>\n",
       "    </tr>\n",
       "    <tr>\n",
       "      <th>2996</th>\n",
       "      <td>2997</td>\n",
       "      <td>&lt;NA&gt;</td>\n",
       "      <td>&lt;NA&gt;</td>\n",
       "    </tr>\n",
       "    <tr>\n",
       "      <th>3995</th>\n",
       "      <td>3996</td>\n",
       "      <td>&lt;NA&gt;</td>\n",
       "      <td>&lt;NA&gt;</td>\n",
       "    </tr>\n",
       "    <tr>\n",
       "      <th>4994</th>\n",
       "      <td>4995</td>\n",
       "      <td>&lt;NA&gt;</td>\n",
       "      <td>&lt;NA&gt;</td>\n",
       "    </tr>\n",
       "    <tr>\n",
       "      <th>5993</th>\n",
       "      <td>5994</td>\n",
       "      <td>&lt;NA&gt;</td>\n",
       "      <td>&lt;NA&gt;</td>\n",
       "    </tr>\n",
       "    <tr>\n",
       "      <th>6992</th>\n",
       "      <td>6993</td>\n",
       "      <td>&lt;NA&gt;</td>\n",
       "      <td>&lt;NA&gt;</td>\n",
       "    </tr>\n",
       "    <tr>\n",
       "      <th>7991</th>\n",
       "      <td>7992</td>\n",
       "      <td>&lt;NA&gt;</td>\n",
       "      <td>&lt;NA&gt;</td>\n",
       "    </tr>\n",
       "    <tr>\n",
       "      <th>8990</th>\n",
       "      <td>8991</td>\n",
       "      <td>&lt;NA&gt;</td>\n",
       "      <td>&lt;NA&gt;</td>\n",
       "    </tr>\n",
       "    <tr>\n",
       "      <th>9898</th>\n",
       "      <td>9899</td>\n",
       "      <td>&lt;NA&gt;</td>\n",
       "      <td>&lt;NA&gt;</td>\n",
       "    </tr>\n",
       "    <tr>\n",
       "      <th>9988</th>\n",
       "      <td>9989</td>\n",
       "      <td>&lt;NA&gt;</td>\n",
       "      <td>&lt;NA&gt;</td>\n",
       "    </tr>\n",
       "    <tr>\n",
       "      <th>9989</th>\n",
       "      <td>9990</td>\n",
       "      <td>&lt;NA&gt;</td>\n",
       "      <td>&lt;NA&gt;</td>\n",
       "    </tr>\n",
       "    <tr>\n",
       "      <th>9998</th>\n",
       "      <td>9999</td>\n",
       "      <td>&lt;NA&gt;</td>\n",
       "      <td>&lt;NA&gt;</td>\n",
       "    </tr>\n",
       "  </tbody>\n",
       "</table>\n",
       "</div>"
      ],
      "text/plain": [
       "         n  f(n)  Elapsed Time\n",
       "998    999  <NA>          <NA>\n",
       "1997  1998  <NA>          <NA>\n",
       "2996  2997  <NA>          <NA>\n",
       "3995  3996  <NA>          <NA>\n",
       "4994  4995  <NA>          <NA>\n",
       "5993  5994  <NA>          <NA>\n",
       "6992  6993  <NA>          <NA>\n",
       "7991  7992  <NA>          <NA>\n",
       "8990  8991  <NA>          <NA>\n",
       "9898  9899  <NA>          <NA>\n",
       "9988  9989  <NA>          <NA>\n",
       "9989  9990  <NA>          <NA>\n",
       "9998  9999  <NA>          <NA>"
      ]
     },
     "execution_count": 34,
     "metadata": {},
     "output_type": "execute_result"
    }
   ],
   "source": [
    "df[df['f(n)'].isna()]"
   ]
  },
  {
   "cell_type": "markdown",
   "id": "c67f41d0-bcfa-4d12-a328-7e9ce0c04302",
   "metadata": {},
   "source": [
    "We need a better approach for testing large multiples, since numbers with lots of $9$s tend to have $9$s, or other large values, in their multiples.  So we'll approach the problem backwards: we'll generate large integers containing only digits in $\\{0, 1, 2\\}$, and see which ones have a given number as a factor.\n",
    "\n",
    "This combinatorial approach will still require a lot of processing - if the value of $f(n)$ has m digits, we'll still have to generate\n",
    "\n",
    "$$\n",
    "\\sum_{k=0}^{m} x^k = {{1-x^{m+1}} \\over {1-x}}\n",
    "$$\n",
    "\n",
    "for testing.  So if the solution has 20 digits, we'll have to test 5,230,176,601 values.  But this may be less than the number of multiples we would have to test, and so we'd converge on an answer faster (and would improve our odds if the solution has less than 20 digits)."
   ]
  },
  {
   "cell_type": "markdown",
   "id": "86909b3a-b9f1-4158-9a6d-0a7dee2e4ef1",
   "metadata": {},
   "source": [
    "## Generating Values"
   ]
  },
  {
   "cell_type": "code",
   "execution_count": 35,
   "id": "3fae5108-95e9-4010-a1fa-69d2421c890f",
   "metadata": {},
   "outputs": [],
   "source": [
    "import itertools"
   ]
  },
  {
   "cell_type": "code",
   "execution_count": 36,
   "id": "4ebe9bc9-ef41-4bf3-989d-af45f92e8e75",
   "metadata": {},
   "outputs": [],
   "source": [
    "# I've used this function a few times now, so it needs to go into the library as well.\n",
    "def digits_to_number(t):\n",
    "    return int(str().join(map(str, t)))"
   ]
  },
  {
   "cell_type": "code",
   "execution_count": 37,
   "id": "9e3c991e-dff6-4b03-b932-378332d2a1cb",
   "metadata": {},
   "outputs": [
    {
     "name": "stdout",
     "output_type": "stream",
     "text": [
      "11112222222222222222\n"
     ]
    }
   ],
   "source": [
    "# Test the approach on a large number with lots of 9's\n",
    "for item in itertools.product('012',repeat=20):\n",
    "    value = digits_to_number(item)\n",
    "    if value < 9999:\n",
    "        continue\n",
    "    if value % 9999 == 0:\n",
    "        print(value)\n",
    "        break"
   ]
  },
  {
   "cell_type": "code",
   "execution_count": 38,
   "id": "3de5bff0-f256-4635-a263-2947ebbb747c",
   "metadata": {},
   "outputs": [
    {
     "data": {
      "text/plain": [
       "1111333355557778.0"
      ]
     },
     "execution_count": 38,
     "metadata": {},
     "output_type": "execute_result"
    }
   ],
   "source": [
    "11112222222222222222 / 9999"
   ]
  },
  {
   "cell_type": "markdown",
   "id": "f36e90df-b546-4d2e-ade7-26ebf56d1eee",
   "metadata": {},
   "source": [
    "Bingo!  Note that this solution would have required generating 1,111,333,355,557,778 multiples of 9,999.  So the 5,230,176,601 combinations that we tried to determine this value is actally a 99% reduction in computational overhead. :)"
   ]
  },
  {
   "cell_type": "code",
   "execution_count": 39,
   "id": "e7ea47b1-1063-4840-857a-94e770e589f7",
   "metadata": {},
   "outputs": [
    {
     "data": {
      "text/plain": [
       "-99.99999529378239"
      ]
     },
     "execution_count": 39,
     "metadata": {},
     "output_type": "execute_result"
    }
   ],
   "source": [
    "5230176601 / 1111333355557778 - 1 * 100"
   ]
  },
  {
   "cell_type": "markdown",
   "id": "6672c230-dbf3-4a35-bb29-da33ecdaf602",
   "metadata": {},
   "source": [
    "Let's wrap up this approach in a new function:"
   ]
  },
  {
   "cell_type": "code",
   "execution_count": 40,
   "id": "9a420f75-219a-43a6-b99c-144130a61189",
   "metadata": {},
   "outputs": [],
   "source": [
    "@timed()\n",
    "def h(n):\n",
    "    for item in itertools.product('012',repeat=20):\n",
    "        value = digits_to_number(item)\n",
    "        if value < n:\n",
    "            continue\n",
    "        if value % n == 0:\n",
    "            break\n",
    "\n",
    "    return value"
   ]
  },
  {
   "cell_type": "markdown",
   "id": "74c3e5e9-8a6f-4be3-aace-32e2d7d69f34",
   "metadata": {},
   "source": [
    "Then repeat our calculation, utilizing $h(n)$ wherever $g(n)$ takes over 10 seconds to compute:"
   ]
  },
  {
   "cell_type": "code",
   "execution_count": 41,
   "id": "cd089b8e-041d-44e5-94b0-2f15d7c5e03f",
   "metadata": {},
   "outputs": [],
   "source": [
    "# Define the column structure\n",
    "columns = ['n', 'f(n)', 'Elapsed Time']\n",
    "data_types = {'n': 'Int64', 'f(n)': 'Int64', 'Elapsed Time': 'Int64'}\n",
    "\n",
    "# Create an empty DataFrame with specified types\n",
    "df = pd.DataFrame(columns=columns).astype(data_types)"
   ]
  },
  {
   "cell_type": "code",
   "execution_count": null,
   "id": "77967553-d3c3-4512-ba30-21e385afa1b6",
   "metadata": {},
   "outputs": [],
   "source": [
    "rows = []\n",
    "\n",
    "for n in range(1, 10001):\n",
    "    (f, t) = g(n)\n",
    "\n",
    "    if not f:\n",
    "        (f, t) = h(n)\n",
    "    \n",
    "    rows.append({'n': n, 'f(n)': f, 'Elapsed Time': t})\n",
    "\n",
    "df = pd.DataFrame(rows)\n",
    "df['f(n)'] = df['f(n)'].astype('UInt64')  # Larger data type to hold some of the large values we will be generating\n",
    "df['Elapsed Time'] = (df['Elapsed Time']).round().astype('Int64')"
   ]
  },
  {
   "cell_type": "markdown",
   "id": "b68d2514-b01e-4310-8b7f-b92058619220",
   "metadata": {},
   "source": [
    "Check that we have computed a value for every $n$:"
   ]
  },
  {
   "cell_type": "code",
   "execution_count": null,
   "id": "3a5e757c-4b7f-4d40-b874-bc6404b63a3e",
   "metadata": {},
   "outputs": [],
   "source": [
    "df[df['f(n)'].isna()]['n']"
   ]
  },
  {
   "cell_type": "markdown",
   "id": "892a805e-ad6d-4fe9-9ee3-388853fb64b5",
   "metadata": {},
   "source": [
    "Use floor division to compute\n",
    "$${f(n)} \\over {n}$$\n",
    "We're not losing any precision, since $f(n)$ is a multiple of $n$.  This does avoid convertion to `float`, which preserves precision when computing the sum.\n",
    "Note that the `pandas` syntax `df['Ratio'] = (df['f(n)'] / df['n']).astype('Int64')` fails - it cannot convert all of the `float` results to `Int64`, necessitating the floor division and data frame iteration approach."
   ]
  },
  {
   "cell_type": "code",
   "execution_count": null,
   "id": "be8486da-5256-4fbd-8dfd-e9926a42f1d9",
   "metadata": {},
   "outputs": [],
   "source": [
    "for x in list(df.itertuples())[:10]:\n",
    "    print(x.n, x._2, x._2 // x.n)"
   ]
  },
  {
   "cell_type": "markdown",
   "id": "394ac560-c5b4-4d16-8f2b-52e2f255b8d9",
   "metadata": {},
   "source": [
    "Final answer:\n",
    "$$\n",
    "\\sum_{n=1}^{10000} {f(n) \\over n} = 1,111,981,904,675,169\n",
    "$$"
   ]
  },
  {
   "cell_type": "code",
   "execution_count": null,
   "id": "7971e477-127b-4b22-bf04-b8f1b1b10b21",
   "metadata": {},
   "outputs": [],
   "source": [
    "sum([ x._2 // x.n for x in df.itertuples() ])"
   ]
  }
 ],
 "metadata": {
  "kernelspec": {
   "display_name": "Python 3 (ipykernel)",
   "language": "python",
   "name": "python3"
  },
  "language_info": {
   "codemirror_mode": {
    "name": "ipython",
    "version": 3
   },
   "file_extension": ".py",
   "mimetype": "text/x-python",
   "name": "python",
   "nbconvert_exporter": "python",
   "pygments_lexer": "ipython3",
   "version": "3.12.8"
  }
 },
 "nbformat": 4,
 "nbformat_minor": 5
}
