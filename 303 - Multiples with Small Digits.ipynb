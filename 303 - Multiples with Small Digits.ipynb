{
 "cells": [
  {
   "cell_type": "markdown",
   "id": "18e3075d-8812-4b6e-a977-85ff7875e817",
   "metadata": {},
   "source": [
    "# Problem 303: Multiples with Small Digits"
   ]
  },
  {
   "cell_type": "markdown",
   "id": "7f360c60-ee68-4866-82ff-40ac5ebed464",
   "metadata": {},
   "source": [
    "For a positive integer $n$, define $f(n)$ as the least positive multiple of $n$ that, written in base $10$, uses only digits $\\le 2$.\n",
    "\n",
    "Thus $f(2)=2$, $f(3)=12$, $f(7)=21$, $f(42)=210$, $f(89)=1121222$.\n",
    "\n",
    "Also, \n",
    "\n",
    "$$\n",
    "\\sum_{n=1}^{100} {f(n) \\over n} = 11363107\n",
    "$$\n",
    "\n",
    "Find\n",
    "$$\n",
    "\\sum_{n=1}^{10000} {f(n) \\over n}\n",
    "$$"
   ]
  },
  {
   "cell_type": "code",
   "execution_count": 1,
   "id": "38bcb715-d305-4a13-a230-f363415a8e12",
   "metadata": {},
   "outputs": [],
   "source": [
    "import library"
   ]
  },
  {
   "cell_type": "code",
   "execution_count": 36,
   "id": "28b8d10a-7ec0-4865-a478-9290f9bd1834",
   "metadata": {},
   "outputs": [],
   "source": [
    "def digit_greater_than_two(n):\n",
    "    digits = {'0', '1', '2'}\n",
    "    for d in str(n):\n",
    "        if d not in digits:\n",
    "            break\n",
    "    else:\n",
    "        return True\n",
    "\n",
    "    return False"
   ]
  },
  {
   "cell_type": "code",
   "execution_count": 37,
   "id": "61117044-798e-4b6f-8cbd-4abb25c43ad4",
   "metadata": {},
   "outputs": [],
   "source": [
    "def g(n):\n",
    "    k = n\n",
    "    while not digit_greater_than_two(k):\n",
    "        k += n\n",
    "\n",
    "    return k"
   ]
  },
  {
   "cell_type": "code",
   "execution_count": 3,
   "id": "f56eae4f-b2c4-4a8f-b1f8-5258dfeadecf",
   "metadata": {},
   "outputs": [
    {
     "data": {
      "text/plain": [
       "2"
      ]
     },
     "execution_count": 3,
     "metadata": {},
     "output_type": "execute_result"
    }
   ],
   "source": [
    "f(2)"
   ]
  },
  {
   "cell_type": "code",
   "execution_count": 4,
   "id": "0ae132c7-0315-4eef-89bc-c45b8c0cbfa4",
   "metadata": {},
   "outputs": [
    {
     "data": {
      "text/plain": [
       "12"
      ]
     },
     "execution_count": 4,
     "metadata": {},
     "output_type": "execute_result"
    }
   ],
   "source": [
    "f(3)"
   ]
  },
  {
   "cell_type": "code",
   "execution_count": 5,
   "id": "33b38604-7dfa-455c-aa8d-f42add57ea9b",
   "metadata": {},
   "outputs": [
    {
     "data": {
      "text/plain": [
       "21"
      ]
     },
     "execution_count": 5,
     "metadata": {},
     "output_type": "execute_result"
    }
   ],
   "source": [
    "f(7)"
   ]
  },
  {
   "cell_type": "code",
   "execution_count": 6,
   "id": "99294fb1-18ae-488c-9109-36c0a1e7e06a",
   "metadata": {},
   "outputs": [
    {
     "data": {
      "text/plain": [
       "210"
      ]
     },
     "execution_count": 6,
     "metadata": {},
     "output_type": "execute_result"
    }
   ],
   "source": [
    "f(42)"
   ]
  },
  {
   "cell_type": "code",
   "execution_count": 7,
   "id": "eb083c8f-e62b-4658-bb98-340eb0da6842",
   "metadata": {},
   "outputs": [
    {
     "data": {
      "text/plain": [
       "1121222"
      ]
     },
     "execution_count": 7,
     "metadata": {},
     "output_type": "execute_result"
    }
   ],
   "source": [
    "f(89)"
   ]
  },
  {
   "cell_type": "code",
   "execution_count": 40,
   "id": "20fe9931-0da7-4066-a12d-27c3119e7982",
   "metadata": {},
   "outputs": [],
   "source": [
    "test_sum = sum([ g(n) / n for n in range(1, 101) ])"
   ]
  },
  {
   "cell_type": "code",
   "execution_count": 41,
   "id": "124086b5-aea0-4d86-b652-66e4e8372b35",
   "metadata": {},
   "outputs": [
    {
     "data": {
      "text/plain": [
       "11363107.0"
      ]
     },
     "execution_count": 41,
     "metadata": {},
     "output_type": "execute_result"
    }
   ],
   "source": [
    "test_sum"
   ]
  },
  {
   "cell_type": "code",
   "execution_count": null,
   "id": "1bc9adbf-5706-46f7-a784-cce4ee10ba55",
   "metadata": {},
   "outputs": [],
   "source": [
    "full_sum = sum([ g(n) / n for n in range(1, 10001) ])"
   ]
  },
  {
   "cell_type": "code",
   "execution_count": null,
   "id": "d2ee051a-b761-4659-a380-5dede5556039",
   "metadata": {},
   "outputs": [],
   "source": [
    "full_sum"
   ]
  },
  {
   "cell_type": "markdown",
   "id": "c86f7a41-cf63-49e9-ab9d-f662c09102e3",
   "metadata": {
    "jp-MarkdownHeadingCollapsed": true
   },
   "source": [
    "## Performance Testing"
   ]
  },
  {
   "cell_type": "markdown",
   "id": "8b36f586-23f5-4e01-8551-3c283ab0af20",
   "metadata": {},
   "source": [
    "As usual, my initial implementation was pretty slow.  I'm not sure how far it got before I killed it.  Let me try some speed testing to see if there's something better:"
   ]
  },
  {
   "cell_type": "code",
   "execution_count": null,
   "id": "bdf08553-22c6-4dd2-9a2a-25b3060e532a",
   "metadata": {},
   "outputs": [],
   "source": [
    "# Starting point\n",
    "def f(n):\n",
    "    k = n\n",
    "    while set(library.digits(k)) - {0, 1, 2} != set():\n",
    "        k += n\n",
    "\n",
    "    return k"
   ]
  },
  {
   "cell_type": "code",
   "execution_count": 14,
   "id": "abfd260f-4ad3-4b3e-a142-355ed4edae7d",
   "metadata": {},
   "outputs": [
    {
     "name": "stdout",
     "output_type": "stream",
     "text": [
      "394 ns ± 20.4 ns per loop (mean ± std. dev. of 7 runs, 1,000,000 loops each)\n"
     ]
    }
   ],
   "source": [
    "%%timeit\n",
    "x = 1234\n",
    "library.digits(x)"
   ]
  },
  {
   "cell_type": "code",
   "execution_count": 15,
   "id": "e52e6dbe-a04f-4baa-9055-eb84b3b12c9b",
   "metadata": {},
   "outputs": [
    {
     "name": "stdout",
     "output_type": "stream",
     "text": [
      "472 ns ± 18.6 ns per loop (mean ± std. dev. of 7 runs, 1,000,000 loops each)\n"
     ]
    }
   ],
   "source": [
    "%%timeit\n",
    "x = 1234\n",
    "set(library.digits(x))"
   ]
  },
  {
   "cell_type": "code",
   "execution_count": 16,
   "id": "cd58077f-4811-494b-9bb8-8ee452ac5f76",
   "metadata": {},
   "outputs": [
    {
     "name": "stdout",
     "output_type": "stream",
     "text": [
      "612 ns ± 46.6 ns per loop (mean ± std. dev. of 7 runs, 1,000,000 loops each)\n"
     ]
    }
   ],
   "source": [
    "%%timeit\n",
    "x = 1234\n",
    "set(library.digits(x)) - {0,1,2}"
   ]
  },
  {
   "cell_type": "code",
   "execution_count": 17,
   "id": "f65f9eb3-5973-4e75-b645-53979af8a3b3",
   "metadata": {},
   "outputs": [
    {
     "name": "stdout",
     "output_type": "stream",
     "text": [
      "653 ns ± 22.4 ns per loop (mean ± std. dev. of 7 runs, 1,000,000 loops each)\n"
     ]
    }
   ],
   "source": [
    "%%timeit\n",
    "x = 1234\n",
    "set(library.digits(x)) - {0,1,2} != set()"
   ]
  },
  {
   "cell_type": "code",
   "execution_count": 38,
   "id": "f884f1d3-de37-43c4-83c3-f743effbd13b",
   "metadata": {},
   "outputs": [
    {
     "name": "stdout",
     "output_type": "stream",
     "text": [
      "50.4 ns ± 2.32 ns per loop (mean ± std. dev. of 7 runs, 10,000,000 loops each)\n"
     ]
    }
   ],
   "source": [
    "%%timeit\n",
    "x = 1234\n",
    "str(x)"
   ]
  },
  {
   "cell_type": "code",
   "execution_count": 20,
   "id": "7283fc67-cd68-482c-a5d6-a1e707e0e501",
   "metadata": {},
   "outputs": [
    {
     "name": "stdout",
     "output_type": "stream",
     "text": [
      "333 ns ± 2.12 ns per loop (mean ± std. dev. of 7 runs, 1,000,000 loops each)\n"
     ]
    }
   ],
   "source": [
    "# instead of building a set of all digits, just loop through the digits and break on the first one greater than two:\n",
    "%%timeit\n",
    "x = 1234\n",
    "for x in str(x):\n",
    "    if int(x) > 2:\n",
    "        break\n",
    "else:\n",
    "    True"
   ]
  },
  {
   "cell_type": "code",
   "execution_count": null,
   "id": "65d165b7-1139-43b4-9ede-3174e92cdec4",
   "metadata": {},
   "outputs": [],
   "source": [
    "def digit_greater_than_two(n):\n",
    "    digits = {'0', '1', '2'}\n",
    "    for d in str(n):\n",
    "        if d not in digits:\n",
    "            break\n",
    "    else:\n",
    "        return True\n",
    "\n",
    "    return False"
   ]
  },
  {
   "cell_type": "code",
   "execution_count": null,
   "id": "e3bcce57-f10f-41f7-aa71-2fe0454497d1",
   "metadata": {},
   "outputs": [],
   "source": [
    "def g(n):\n",
    "    k = n\n",
    "    while not digit_greater_than_two(k):\n",
    "        k += n\n",
    "\n",
    "    return k"
   ]
  },
  {
   "cell_type": "code",
   "execution_count": 23,
   "id": "98ac8dd2-0df9-45c2-9963-f70ad649affd",
   "metadata": {},
   "outputs": [
    {
     "name": "stdout",
     "output_type": "stream",
     "text": [
      "12 ms ± 448 μs per loop (mean ± std. dev. of 7 runs, 100 loops each)\n"
     ]
    }
   ],
   "source": [
    "%%timeit\n",
    "f(89)"
   ]
  },
  {
   "cell_type": "code",
   "execution_count": 35,
   "id": "43e878ea-a95d-4515-b4f5-b1ad910e289f",
   "metadata": {},
   "outputs": [
    {
     "name": "stdout",
     "output_type": "stream",
     "text": [
      "3.49 ms ± 482 μs per loop (mean ± std. dev. of 7 runs, 100 loops each)\n"
     ]
    }
   ],
   "source": [
    "%%timeit\n",
    "g(89)"
   ]
  },
  {
   "cell_type": "code",
   "execution_count": 33,
   "id": "87a6c9b1-448f-42f4-b02a-3d4679760d0b",
   "metadata": {},
   "outputs": [
    {
     "data": {
      "text/plain": [
       "210"
      ]
     },
     "execution_count": 33,
     "metadata": {},
     "output_type": "execute_result"
    }
   ],
   "source": [
    "g(89)"
   ]
  },
  {
   "cell_type": "markdown",
   "id": "b1f3dd69-7a65-4535-87e8-8735b8941fe0",
   "metadata": {},
   "source": [
    "So by not working with all the digits, and minimizing conversions, I can save a significant amount of time.\n",
    "\n",
    "I didn't test it, but I suspect this approach also scales better to larger numbers."
   ]
  }
 ],
 "metadata": {
  "kernelspec": {
   "display_name": "Python 3 (ipykernel)",
   "language": "python",
   "name": "python3"
  },
  "language_info": {
   "codemirror_mode": {
    "name": "ipython",
    "version": 3
   },
   "file_extension": ".py",
   "mimetype": "text/x-python",
   "name": "python",
   "nbconvert_exporter": "python",
   "pygments_lexer": "ipython3",
   "version": "3.12.8"
  }
 },
 "nbformat": 4,
 "nbformat_minor": 5
}
